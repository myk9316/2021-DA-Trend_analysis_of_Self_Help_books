{
 "cells": [
  {
   "cell_type": "code",
   "execution_count": 7,
   "metadata": {},
   "outputs": [],
   "source": [
    "import numpy as np\n",
    "import pandas as pd\n",
    "import requests as rq\n",
    "from bs4 import BeautifulSoup\n",
    "from selenium import webdriver\n",
    "from selenium.webdriver.common.keys import Keys\n",
    "import requests\n",
    "from selenium.common.exceptions import NoSuchElementException\n",
    "from selenium.common.exceptions import ElementNotInteractableException\n",
    "import time\n",
    "import re"
   ]
  },
  {
   "cell_type": "markdown",
   "metadata": {},
   "source": [
    "### 리스트 생성\n",
    "- 새로 데이터 객체 생성을 위해 실행 필요\n",
    "- 만약 기존 리스트에다 계속 이어서 데이터 쌓을꺼면 추가로 실행하지 말것"
   ]
  },
  {
   "cell_type": "code",
   "execution_count": 8,
   "metadata": {},
   "outputs": [],
   "source": [
    "book_titles = list()\n",
    "book_abstract = list()"
   ]
  },
  {
   "cell_type": "markdown",
   "metadata": {},
   "source": [
    "### 연도 및 월 설정\n",
    "- 크롤릴할 연도와 크롤링을 시작할 월 설정\n",
    "- 만약 2021년 3월 입력시, 2021년 3월부터 12월에 대한 데이터 수집"
   ]
  },
  {
   "cell_type": "code",
   "execution_count": 9,
   "metadata": {},
   "outputs": [],
   "source": [
    "year = 2013\n",
    "month = 1\n",
    "n = 1"
   ]
  },
  {
   "cell_type": "markdown",
   "metadata": {},
   "source": [
    "### 자기 계발서 크롤링"
   ]
  },
  {
   "cell_type": "code",
   "execution_count": null,
   "metadata": {},
   "outputs": [
    {
     "name": "stdout",
     "output_type": "stream",
     "text": [
      "*************  년도: 2013 월: 1  ****************\n",
      "1. 습관의 힘\n",
      "2. 언니의 독설\n",
      "3. 100달러로 세상에 뛰어들어라\n",
      "4. 김미경의 드림 온 Dream on\n",
      "5. 어떻게 원하는 것을 얻는가 밀리언 특별판\n",
      "6. 사람은 무엇으로 성장하는가\n",
      "7. 내가 알고 있는 걸 당신도 알게 된다면\n",
      "8. 미생 - 아직 살아있지 못한 자 1\n",
      "9. 멈추지마 다시 꿈부터 써봐\n",
      "10. 리딩으로 리드하라\n",
      "11. 미생 - 아직 살아있지 못한 자 2\n",
      "12. 인생에 변명하지 마라\n",
      "13. 꿈꾸는 다락방\n",
      "14. 김미경의 아트 스피치\n",
      "15. 콰이어트\n",
      "16. 하루 15분 정리의 힘\n",
      "17. 당신의 꿈은 무엇입니까\n",
      "18. 마지막 한 걸음은 혼자서 가야 한다\n",
      "19. 남자의 물건\n",
      "20. 왓칭 Watching\n",
      "21. 독서 천재가 된 홍대리\n",
      "22. 나는 까칠하게 살기로 했다\n",
      "23. 당신은 이미 읽혔다\n",
      "24. FBI 행동의 심리학\n",
      "25. 카네기 인간관계론\n",
      "26. 탁월한 아이디어는 어디서 오는가\n",
      "27. 독서 천재가 된 홍대리 2\n",
      "28. The Secret 시크릿\n",
      "29. 착한 성공\n",
      "30. 꿈이 있는 아내는 늙지 않는다\n",
      "31. 무지개 원리\n",
      "32. 프레임\n",
      "33. 마흔, 논어를 읽어야 할 시간\n",
      "34. 긍정의 배신\n",
      "35. 아웃라이어\n",
      "36. 흔들리지 않고 피어나는 마흔은 없다\n",
      "37. 나는 당신을 봅니다\n",
      "38. 오프라 윈프리의 희망 메시지 365\n",
      "39. 노는 만큼 성공한다\n",
      "40. 무엇을 위해 살 것인가\n",
      "41. 시골의사 박경철의 자기혁명\n",
      "42. 포기 대신 죽기 살기로\n",
      "43. 설득의 심리학\n",
      "44. 생각 버리기 연습\n",
      "45. 스무살에 알았더라면 좋았을 것들\n",
      "46. 당신 참 괜찮은 사람이야\n",
      "47. 읽어야 산다\n",
      "48. 화성에서 온 남자 금성에서 온 여자 (100만 부 기념 리커버 에디션)\n",
      "49. 일 잘하는 사람보다 말 잘하는 사람이 이긴다\n",
      "50. 여자의 모든 인생은 20대에 결정된다\n",
      "51. 영어 천재가 된 홍대리\n",
      "52. 우리가 모른다고 없는 것이 아니다\n",
      "53. 당신의 인생을 어떻게 평가할 것인가\n",
      "54. 심플하게 산다\n",
      "55. 살면서 포기해야 할 것은 없다\n",
      "56. 행복의 특권\n",
      "57. 질문이 답을 바꾼다\n"
     ]
    }
   ],
   "source": [
    "for month in list(range(month, 13)):\n",
    "    url = 'http://www.yes24.com/24/category/bestseller?CategoryNumber=001001026&sumgb=09&year=' + str(year) + '&month=' + str(month).zfill(2) + '&FetchSize=200'\n",
    "    print('*************  년도: ' + str(year) + ' 월: ' + str(month) +'  ****************')\n",
    "    driver = webdriver.Chrome(executable_path=r'C:\\MIN\\1. Python\\chromedriver_win32\\chromedriver.exe')\n",
    "    driver.get(url)\n",
    "    driver.implicitly_wait(3)\n",
    "\n",
    "    for m in list(range(n-1,200)):    \n",
    "        driver.implicitly_wait(3)\n",
    "        map = '#category_layout > tbody > tr:nth-child(' + str(m*2+1) + ') > td.goodsTxtInfo > p:nth-child(1) > a:nth-child(1)'\n",
    "        title = (driver.find_element_by_css_selector(map)).text\n",
    "        if title not in book_titles:\n",
    "            print('{}.'.format(m+1), title)\n",
    "            yes = driver.find_element_by_css_selector(map).click()\n",
    "            driver.implicitly_wait(3)\n",
    "            book_titles.append(title)\n",
    "            try:\n",
    "                abstract1 = (driver.find_element_by_css_selector('#infoset_introduce > div.infoSetCont_wrap > table')).text\n",
    "            except NoSuchElementException:\n",
    "                try:\n",
    "                    abstract1 = (driver.find_element_by_css_selector('#infoset_introduce > div.infoSetCont_wrap > div.infoWrap_txt')).text\n",
    "                except NoSuchElementException:\n",
    "                    pass\n",
    "            try:\n",
    "                abstract2 = (driver.find_element_by_css_selector('#infoset_toc > div.infoSetCont_wrap > div.infoWrap_txt')).text\n",
    "            except NoSuchElementException:\n",
    "                try:\n",
    "                    abstract2 = '' #단원목록이 없는 경우에 해당\n",
    "                except NoSuchElementException:\n",
    "                    pass\n",
    "            book_abstract.append(abstract1 + abstract2 )\n",
    "#             print(abstract1 + abstract2)\n",
    "            driver.back()\n",
    "        else:\n",
    "            pass"
   ]
  },
  {
   "cell_type": "markdown",
   "metadata": {},
   "source": [
    "### 데이터 점검"
   ]
  },
  {
   "cell_type": "code",
   "execution_count": 6,
   "metadata": {},
   "outputs": [
    {
     "data": {
      "text/html": [
       "<div>\n",
       "<style scoped>\n",
       "    .dataframe tbody tr th:only-of-type {\n",
       "        vertical-align: middle;\n",
       "    }\n",
       "\n",
       "    .dataframe tbody tr th {\n",
       "        vertical-align: top;\n",
       "    }\n",
       "\n",
       "    .dataframe thead th {\n",
       "        text-align: right;\n",
       "    }\n",
       "</style>\n",
       "<table border=\"1\" class=\"dataframe\">\n",
       "  <thead>\n",
       "    <tr style=\"text-align: right;\">\n",
       "      <th></th>\n",
       "      <th>0</th>\n",
       "      <th>0</th>\n",
       "    </tr>\n",
       "  </thead>\n",
       "  <tbody>\n",
       "    <tr>\n",
       "      <th>6</th>\n",
       "      <td>하버드 상위 1퍼센트의 비밀</td>\n",
       "      <td>하버드에서 찾은 가장 강력한 성공 공식!\\nBlack Diamond=Block(차단...</td>\n",
       "    </tr>\n",
       "    <tr>\n",
       "      <th>7</th>\n",
       "      <td>0430 TIME TO PLAN : 일어나라, 삶이 바뀐다</td>\n",
       "      <td>전국 서점 종합 베스트셀러 『나의 하루는 4시 30분에 시작된다』 실전 플래너 전격...</td>\n",
       "    </tr>\n",
       "    <tr>\n",
       "      <th>8</th>\n",
       "      <td>멘탈의 연금술</td>\n",
       "      <td>“세상은 결코 쉬운 상대가 아니다.\\n유일한 전략은 당신이 세상보다 더 강해지는 것...</td>\n",
       "    </tr>\n",
       "    <tr>\n",
       "      <th>9</th>\n",
       "      <td>성숙한 어른이 갖춰야 할 좋은 심리 습관</td>\n",
       "      <td>어제보다 확실하게 더 나은 내가 되는 법, 그 33가지 심리 습관!\\n\\n생각을 바...</td>\n",
       "    </tr>\n",
       "    <tr>\n",
       "      <th>10</th>\n",
       "      <td>타이탄의 도구들 (리커버 에디션)</td>\n",
       "      <td>“세계 최고들은 1등이 아니다.\\n그들은 1등과 싸워 이긴 사람들이다!”\\n\\n★★...</td>\n",
       "    </tr>\n",
       "    <tr>\n",
       "      <th>11</th>\n",
       "      <td>김미경의 리부트</td>\n",
       "      <td>MD 한마디\\n코로나19 이후 거시적인 전망과 대응책이 쏟아지고 있다. 그런데 '나...</td>\n",
       "    </tr>\n",
       "    <tr>\n",
       "      <th>12</th>\n",
       "      <td>아주 작은 습관의 힘</td>\n",
       "      <td>자기계발서의 공식을 다시 쓰는 2018 아마존 최고의 화제작!\\n\\n아마존 베스트셀...</td>\n",
       "    </tr>\n",
       "    <tr>\n",
       "      <th>13</th>\n",
       "      <td>습관의 디테일</td>\n",
       "      <td>“지금까지 나온 습관 책 중 가장 체계적이고 실용적이다.” - 로버트 치알디니, 『...</td>\n",
       "    </tr>\n",
       "    <tr>\n",
       "      <th>14</th>\n",
       "      <td>폴리매스</td>\n",
       "      <td>“다가올 세기에 꼭 필요한 필독서”\\n- 대니얼 레비틴, 베스트셀러 『정리하는 뇌』...</td>\n",
       "    </tr>\n",
       "    <tr>\n",
       "      <th>15</th>\n",
       "      <td>한 번이라도 모든 걸 걸어본 적 있는가</td>\n",
       "      <td>게임 폐인은 어떻게 행정고시와 입법고시에 동시 합격했을까?\\n\\n20대를 게임 폐인...</td>\n",
       "    </tr>\n",
       "  </tbody>\n",
       "</table>\n",
       "</div>"
      ],
      "text/plain": [
       "                                   0  \\\n",
       "6                    하버드 상위 1퍼센트의 비밀   \n",
       "7   0430 TIME TO PLAN : 일어나라, 삶이 바뀐다   \n",
       "8                            멘탈의 연금술   \n",
       "9             성숙한 어른이 갖춰야 할 좋은 심리 습관   \n",
       "10                타이탄의 도구들 (리커버 에디션)   \n",
       "11                          김미경의 리부트   \n",
       "12                       아주 작은 습관의 힘   \n",
       "13                           습관의 디테일   \n",
       "14                              폴리매스   \n",
       "15             한 번이라도 모든 걸 걸어본 적 있는가   \n",
       "\n",
       "                                                    0  \n",
       "6   하버드에서 찾은 가장 강력한 성공 공식!\\nBlack Diamond=Block(차단...  \n",
       "7   전국 서점 종합 베스트셀러 『나의 하루는 4시 30분에 시작된다』 실전 플래너 전격...  \n",
       "8   “세상은 결코 쉬운 상대가 아니다.\\n유일한 전략은 당신이 세상보다 더 강해지는 것...  \n",
       "9   어제보다 확실하게 더 나은 내가 되는 법, 그 33가지 심리 습관!\\n\\n생각을 바...  \n",
       "10  “세계 최고들은 1등이 아니다.\\n그들은 1등과 싸워 이긴 사람들이다!”\\n\\n★★...  \n",
       "11  MD 한마디\\n코로나19 이후 거시적인 전망과 대응책이 쏟아지고 있다. 그런데 '나...  \n",
       "12  자기계발서의 공식을 다시 쓰는 2018 아마존 최고의 화제작!\\n\\n아마존 베스트셀...  \n",
       "13  “지금까지 나온 습관 책 중 가장 체계적이고 실용적이다.” - 로버트 치알디니, 『...  \n",
       "14  “다가올 세기에 꼭 필요한 필독서”\\n- 대니얼 레비틴, 베스트셀러 『정리하는 뇌』...  \n",
       "15  게임 폐인은 어떻게 행정고시와 입법고시에 동시 합격했을까?\\n\\n20대를 게임 폐인...  "
      ]
     },
     "execution_count": 6,
     "metadata": {},
     "output_type": "execute_result"
    }
   ],
   "source": [
    "titles = pd.DataFrame(book_titles)\n",
    "abstract = pd.DataFrame(book_abstract)\n",
    "final_data= pd.concat([titles, abstract],axis=1)\n",
    "final_data.tail(10)"
   ]
  },
  {
   "cell_type": "markdown",
   "metadata": {},
   "source": [
    "### 엑셀 파일로 저장"
   ]
  },
  {
   "cell_type": "code",
   "execution_count": null,
   "metadata": {},
   "outputs": [],
   "source": [
    "final_data.to_csv(f'{year}년 yes24 자기계발서 수집 데이터.csv', encoding='cp949')"
   ]
  }
 ],
 "metadata": {
  "kernelspec": {
   "display_name": "Python 3",
   "language": "python",
   "name": "python3"
  },
  "language_info": {
   "codemirror_mode": {
    "name": "ipython",
    "version": 3
   },
   "file_extension": ".py",
   "mimetype": "text/x-python",
   "name": "python",
   "nbconvert_exporter": "python",
   "pygments_lexer": "ipython3",
   "version": "3.7.7"
  },
  "toc": {
   "base_numbering": 1,
   "nav_menu": {},
   "number_sections": true,
   "sideBar": true,
   "skip_h1_title": false,
   "title_cell": "Table of Contents",
   "title_sidebar": "Contents",
   "toc_cell": false,
   "toc_position": {},
   "toc_section_display": true,
   "toc_window_display": false
  },
  "varInspector": {
   "cols": {
    "lenName": 16,
    "lenType": 16,
    "lenVar": 40
   },
   "kernels_config": {
    "python": {
     "delete_cmd_postfix": "",
     "delete_cmd_prefix": "del ",
     "library": "var_list.py",
     "varRefreshCmd": "print(var_dic_list())"
    },
    "r": {
     "delete_cmd_postfix": ") ",
     "delete_cmd_prefix": "rm(",
     "library": "var_list.r",
     "varRefreshCmd": "cat(var_dic_list()) "
    }
   },
   "types_to_exclude": [
    "module",
    "function",
    "builtin_function_or_method",
    "instance",
    "_Feature"
   ],
   "window_display": false
  }
 },
 "nbformat": 4,
 "nbformat_minor": 4
}
